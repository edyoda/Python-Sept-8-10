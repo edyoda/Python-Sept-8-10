{
 "cells": [
  {
   "cell_type": "code",
   "execution_count": null,
   "metadata": {},
   "outputs": [],
   "source": [
    "Student :\n",
    "    roll no \n",
    "    std \n",
    "    marks \n",
    "    \n",
    "    pecentage \n",
    "    attendence \n",
    "    result "
   ]
  },
  {
   "cell_type": "code",
   "execution_count": 6,
   "metadata": {},
   "outputs": [
    {
     "name": "stdout",
     "output_type": "stream",
     "text": [
      "(103, 'XYZ', 62.0, 'fail')\n",
      "(104, 'RST', 33.0, 'fail')\n"
     ]
    }
   ],
   "source": [
    "class Student:\n",
    "    def __init__(self,roll_no,name,std,marks,att):\n",
    "        self.roll_no = roll_no\n",
    "        self.name = name\n",
    "        self.std  = std\n",
    "        self.marks = marks \n",
    "        self.attendence = att\n",
    "      \n",
    "    def cal_per(self):\n",
    "        self.per = (sum(self.marks)/len(self.marks))\n",
    "       \n",
    "    def cal_result(self):\n",
    "        if self.per > 40 and self.attendence >= 75:\n",
    "            self.result = 'pass'\n",
    "        else:\n",
    "            self.result = 'fail'\n",
    "\n",
    "    def get_details(self):\n",
    "        return self.roll_no,self.name,self.per,self.result\n",
    "    \n",
    "stud1 = Student(101,\"ABC\",4,[80,80,60,50,75],75)\n",
    "stud2 = Student(102,\"PQR\",5,[80,75,60,50,75],75)\n",
    "stud3 = Student(103,\"XYZ\",5,[80,60,45,50,75],30)\n",
    "stud4 = Student(104,\"RST\",7,[40,30,35,20,40],80)\n",
    "\n",
    "students = [stud1,stud2,stud3,stud4]\n",
    "\n",
    "for stud in students:\n",
    "    stud.cal_per()\n",
    "    stud.cal_result()\n",
    "    \n",
    "for stud in students:\n",
    "    if stud.result == 'fail':\n",
    "        print(stud.get_details())\n",
    "\n",
    "        "
   ]
  },
  {
   "cell_type": "code",
   "execution_count": null,
   "metadata": {},
   "outputs": [],
   "source": [
    "Course :\n",
    "    id \n",
    "    course name \n",
    "    course descriptions\n",
    "    author \n",
    "    catagory \n",
    "\n",
    "Tutorials:\n",
    "    id \n",
    "    name \n",
    "    content \n",
    "    course    \n",
    "\n",
    "    \n",
    "all the tutorials for catagory \"Python\"\n",
    "\n",
    "count of tutorails in each course    \n",
    "\n",
    "\n"
   ]
  },
  {
   "cell_type": "code",
   "execution_count": 31,
   "metadata": {},
   "outputs": [
    {
     "name": "stdout",
     "output_type": "stream",
     "text": [
      "(101, 'Python Loops')\n",
      "(102, 'Python List')\n",
      "(103, 'NumPy')\n",
      "{'Python Basics': 2, 'Python Advanced': 1, 'Data Science': 1, 'ML Basics': 1}\n"
     ]
    }
   ],
   "source": [
    "class Course:\n",
    "    course_count = 0\n",
    "    \n",
    "    def __init__(self,id,name,desc,author,catagory):\n",
    "        self.__id = id\n",
    "        self.__name = name\n",
    "        self.__desc = desc\n",
    "        self.__author = author\n",
    "        self.__catagory = catagory\n",
    "        Course.course_count+=1\n",
    "    \n",
    "    \n",
    "    def get_catagory(self):\n",
    "        return self.__catagory\n",
    "    \n",
    "    def get_name(self):\n",
    "        return self.__name\n",
    "    \n",
    "class Tutorial:\n",
    "    \n",
    "    tutorial_count = 0\n",
    "    tutorials = []\n",
    "    \n",
    "    def __init__(self,id,name,content,course):\n",
    "        self.__id = id\n",
    "        self.__name = name\n",
    "        self.__content = content\n",
    "        self.__course = course\n",
    "        \n",
    "        Tutorial.tutorial_count +=1\n",
    "        Tutorial.tutorials.append(self)\n",
    "        \n",
    "    def get_tutorial_name(self):\n",
    "        return self.__name \n",
    "    \n",
    "    def get_course(self):\n",
    "        return self.__course \n",
    "    \n",
    "    def set_tutorial_name(self,new_name):\n",
    "        self.__name = new_name\n",
    "    \n",
    "    def get_details(self):\n",
    "        return self.__id,self.__name\n",
    "        \n",
    "course1 = Course(1,\"Python Basics\",\"Learn Python Basics\",\"ABC\",\"Python\")        \n",
    "course2 = Course(2,\"Python Advanced\",\"Learn Python Advanced\",\"ABC\",\"Python\")        \n",
    "course3 = Course(3,\"Data Science\",\"Learn DS\",\"ABC\",\"Data Science\")        \n",
    "course4 = Course(4,\"ML Basics\",\"Learn ML Basics\",\"ABC\",\"Machine Learning\")        \n",
    "\n",
    "# print(course1.name)\n",
    "\n",
    "tutorial1 = Tutorial(101,\"Python Loops\",\"For loop and While loop\",course1)\n",
    "tutorial2 = Tutorial(102,\"Python List\",\"List CRUD\",course1)\n",
    "tutorial3 = Tutorial(103,\"NumPy\",\"Numpy\",course2)\n",
    "tutorial4 = Tutorial(104,\"Pandas\",\"Pandas\",course3)\n",
    "tutorial5 = Tutorial(105,\"Scikit\",\"Scikit\",course4)\n",
    "\n",
    "# tutorials = [tutorial1,tutorial2,tutorial3,tutorial4,tutorial5]\n",
    "\n",
    "# print(tutorial1.get_tutorial_name())\n",
    "# tutorial1.set_tutorial_name(\"Loops Python\")\n",
    "# print(tutorial1.get_tutorial_name())\n",
    "\n",
    "for tutorial in tutorials:\n",
    "    if tutorial.get_course().get_catagory() == \"Python\":\n",
    "        print(tutorial.get_details())\n",
    "\n",
    "courses = {}\n",
    "for tutorial in tutorials:\n",
    "        if courses.get(tutorial.get_course().get_name()):\n",
    "            courses[tutorial.get_course().get_name()] +=1\n",
    "        else:\n",
    "            courses.setdefault(tutorial.get_course().get_name(),1)\n",
    "        \n",
    "print(courses)        "
   ]
  },
  {
   "cell_type": "code",
   "execution_count": 32,
   "metadata": {},
   "outputs": [
    {
     "name": "stdout",
     "output_type": "stream",
     "text": [
      "4\n",
      "5\n",
      "[<__main__.Tutorial object at 0x0000027770E94DA0>, <__main__.Tutorial object at 0x0000027770E94E10>, <__main__.Tutorial object at 0x0000027770E94E48>, <__main__.Tutorial object at 0x0000027770E94E80>, <__main__.Tutorial object at 0x0000027770E94DD8>]\n"
     ]
    }
   ],
   "source": [
    "print(Course.course_count)\n",
    "print(Tutorial.tutorial_count)\n",
    "print(tutorials)\n",
    "\n",
    "# Course.course_count =110\n",
    "# print(Course.course_count)\n",
    "# print(course1.course_count)\n",
    "\n"
   ]
  },
  {
   "cell_type": "code",
   "execution_count": null,
   "metadata": {},
   "outputs": [],
   "source": [
    "class method \n",
    "static method \n",
    "inheritance \n",
    "method overriding "
   ]
  }
 ],
 "metadata": {
  "kernelspec": {
   "display_name": "Python 3",
   "language": "python",
   "name": "python3"
  },
  "language_info": {
   "codemirror_mode": {
    "name": "ipython",
    "version": 3
   },
   "file_extension": ".py",
   "mimetype": "text/x-python",
   "name": "python",
   "nbconvert_exporter": "python",
   "pygments_lexer": "ipython3",
   "version": "3.6.5"
  }
 },
 "nbformat": 4,
 "nbformat_minor": 2
}
