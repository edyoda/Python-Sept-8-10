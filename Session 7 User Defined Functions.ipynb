{
 "cells": [
  {
   "cell_type": "code",
   "execution_count": 1,
   "metadata": {},
   "outputs": [
    {
     "name": "stdout",
     "output_type": "stream",
     "text": [
      "4\n"
     ]
    }
   ],
   "source": [
    "s = \"Python sample string\"\n",
    "print(s.index('o'))"
   ]
  },
  {
   "cell_type": "code",
   "execution_count": null,
   "metadata": {},
   "outputs": [],
   "source": [
    "func call \n",
    "func def "
   ]
  },
  {
   "cell_type": "code",
   "execution_count": 5,
   "metadata": {},
   "outputs": [
    {
     "name": "stdout",
     "output_type": "stream",
     "text": [
      "30\n"
     ]
    }
   ],
   "source": [
    "def add(num1,num2):\n",
    "    num3 = num1 + num2\n",
    "    return num3\n",
    "    print(\"Statemnt after return\")\n",
    "\n",
    "result = add(10,20)\n",
    "print(result)"
   ]
  },
  {
   "cell_type": "code",
   "execution_count": 9,
   "metadata": {},
   "outputs": [
    {
     "name": "stdout",
     "output_type": "stream",
     "text": [
      "False\n"
     ]
    }
   ],
   "source": [
    "def linear_search(l,key):\n",
    "    for value in l:\n",
    "        if key == value:\n",
    "            return True\n",
    "    else:\n",
    "        return False\n",
    "\n",
    "l = [10,20,30,40,50,60,70]\n",
    "key = 500\n",
    "\n",
    "result = linear_search(l,key)\n",
    "print(result)"
   ]
  },
  {
   "cell_type": "code",
   "execution_count": 10,
   "metadata": {},
   "outputs": [
    {
     "name": "stdout",
     "output_type": "stream",
     "text": [
      "95\n"
     ]
    }
   ],
   "source": [
    "def sec_max(l):\n",
    "    l2 = sorted(set(l))\n",
    "    r = l2.pop(-2)\n",
    "    return r\n",
    "\n",
    "\n",
    "l = [1,50,45,10,23,78,45,12,85,85,95,95,100,100]\n",
    "result = sec_max(l)\n",
    "print(result)"
   ]
  },
  {
   "cell_type": "code",
   "execution_count": 15,
   "metadata": {},
   "outputs": [
    {
     "name": "stdout",
     "output_type": "stream",
     "text": [
      "95\n"
     ]
    }
   ],
   "source": [
    "def sec_max1(l):\n",
    "    max = 0\n",
    "    sec_max = 0\n",
    "    for value in l:\n",
    "        \n",
    "        if value > max and value > sec_max:\n",
    "            sec_max = max\n",
    "            max = value           \n",
    "            \n",
    "        elif value < max and value > sec_max:\n",
    "            sec_max = value            \n",
    "\n",
    "    return sec_max   \n",
    "    \n",
    "\n",
    "\n",
    "l = [1,50,45,10,23,78,45,12,85,85,95,95,100,100]\n",
    "\n",
    "result = sec_max1(l)\n",
    "print(result)\n"
   ]
  },
  {
   "cell_type": "code",
   "execution_count": null,
   "metadata": {},
   "outputs": [],
   "source": [
    "\n",
    "max \n",
    "sec_max\n",
    "\n",
    "1 value > max max = new value sec max =max  \n",
    "2 max > value > sec_max sec_max = new_value\n",
    "3 sec_max > value"
   ]
  },
  {
   "cell_type": "code",
   "execution_count": 17,
   "metadata": {},
   "outputs": [
    {
     "name": "stdout",
     "output_type": "stream",
     "text": [
      "['a', 'b', 'c', 'd', 'e', 'f', 'g', 'h', 'i', 'j', 'k', 'l', 'm', 'n']\n"
     ]
    }
   ],
   "source": [
    "def char_range(start,end):\n",
    "    l = []\n",
    "    for value in range(ord(start),ord(end)+1):\n",
    "        l.append(chr(value))\n",
    "    return l\n",
    "\n",
    "start = 'a'\n",
    "end = 'n'\n",
    "result = char_range(start,end)\n",
    "print(result)"
   ]
  },
  {
   "cell_type": "code",
   "execution_count": null,
   "metadata": {},
   "outputs": [],
   "source": []
  },
  {
   "cell_type": "markdown",
   "metadata": {},
   "source": [
    "### Parameter Passing Techniques:\n",
    "- > Positional args\n",
    "- > Default args\n",
    "- > Variable length positional args\n",
    "- > Keyword args\n",
    "- > Variable length keywordargs\n",
    "- > unpacking"
   ]
  },
  {
   "cell_type": "code",
   "execution_count": 24,
   "metadata": {},
   "outputs": [
    {
     "name": "stdout",
     "output_type": "stream",
     "text": [
      "10 20 30\n",
      "60\n",
      "0 0 0\n",
      "0\n"
     ]
    }
   ],
   "source": [
    "def add(num1=0,num2=0,num3=0):\n",
    "    print(num1,num2,num3)\n",
    "    return num1+num2+num3\n",
    "\n",
    "print(add(10,20,30))\n",
    "print(add())"
   ]
  },
  {
   "cell_type": "code",
   "execution_count": null,
   "metadata": {},
   "outputs": [],
   "source": []
  },
  {
   "cell_type": "code",
   "execution_count": 28,
   "metadata": {},
   "outputs": [
    {
     "name": "stdout",
     "output_type": "stream",
     "text": [
      "10,20\n",
      "Hi\n",
      "Help on built-in function print in module builtins:\n",
      "\n",
      "print(...)\n",
      "    print(value, ..., sep=' ', end='\\n', file=sys.stdout, flush=False)\n",
      "    \n",
      "    Prints the values to a stream, or to sys.stdout by default.\n",
      "    Optional keyword arguments:\n",
      "    file:  a file-like object (stream); defaults to the current sys.stdout.\n",
      "    sep:   string inserted between values, default a space.\n",
      "    end:   string appended after the last value, default a newline.\n",
      "    flush: whether to forcibly flush the stream.\n",
      "\n"
     ]
    }
   ],
   "source": [
    "print(10,20,sep=\",\")\n",
    "print(\"Hi\")\n",
    "help(print)"
   ]
  },
  {
   "cell_type": "code",
   "execution_count": 32,
   "metadata": {},
   "outputs": [
    {
     "name": "stdout",
     "output_type": "stream",
     "text": [
      "(10, 20, 30, 40, 50)\n",
      "(10, 20, 30, 40, 50, 60, 40, 70)\n",
      "(10, 20, 30)\n"
     ]
    }
   ],
   "source": [
    "def add(*l):\n",
    "    print(l)\n",
    "\n",
    "\n",
    "add(10,20,30,40,50)\n",
    "add(10,20,30,40,50,60,40,70)\n",
    "\n",
    "add(10,20,30)"
   ]
  },
  {
   "cell_type": "code",
   "execution_count": 37,
   "metadata": {},
   "outputs": [
    {
     "name": "stdout",
     "output_type": "stream",
     "text": [
      "[111, 222, 333, 444, 555]\n",
      "[222, 444, 666, 888, 1110]\n",
      "[444, 888, 1332, 1776, 2220]\n"
     ]
    }
   ],
   "source": [
    "def add_index(*args):\n",
    "#     print(args)\n",
    "    l = []\n",
    "    for value in range(len(args[0])):\n",
    "        sum = 0\n",
    "        for value1 in args:\n",
    "            sum = sum + value1[value]\n",
    "        l.append(sum)\n",
    "    return l\n",
    "    \n",
    "l1 = [10,20,30,40,50]\n",
    "l2 = [1,2,3,4,5]\n",
    "l3 = [100,200,300,400,500]\n",
    "\n",
    "l4 = add_index(l1,l2,l3)\n",
    "print(l4)\n",
    "l5 = add_index(l1,l2,l3,l4)\n",
    "print(l5)\n",
    "l6 = add_index(l1,l2,l3,l4,l5)\n",
    "print(l6)"
   ]
  },
  {
   "cell_type": "code",
   "execution_count": 44,
   "metadata": {},
   "outputs": [
    {
     "name": "stdout",
     "output_type": "stream",
     "text": [
      "True\n",
      "True\n"
     ]
    }
   ],
   "source": [
    "def user_auth(username,password):\n",
    "    if username =='abc' and password=='abc@123':\n",
    "        return True\n",
    "    else:\n",
    "        return False\n",
    "\n",
    "print(user_auth(\"abc\",'abc@123'))\n",
    "print(user_auth(password='abc@123',username='abc'))"
   ]
  },
  {
   "cell_type": "code",
   "execution_count": null,
   "metadata": {},
   "outputs": [],
   "source": [
    "print(10,20,end=\" \",sep=\",\")"
   ]
  },
  {
   "cell_type": "code",
   "execution_count": 51,
   "metadata": {},
   "outputs": [
    {
     "name": "stdout",
     "output_type": "stream",
     "text": [
      "() {}\n",
      "(30, 40, 50, 60, 70, 80) {'name': 'abc', 'email': 'abc@gmail.com', 'contact': '7123456789', 'dob': '12-05-2018'}\n"
     ]
    },
    {
     "ename": "TypeError",
     "evalue": "user_detail() missing 2 required positional arguments: 'num1' and 'num2'",
     "output_type": "error",
     "traceback": [
      "\u001b[1;31m---------------------------------------------------------------------------\u001b[0m",
      "\u001b[1;31mTypeError\u001b[0m                                 Traceback (most recent call last)",
      "\u001b[1;32m<ipython-input-51-7611392ee445>\u001b[0m in \u001b[0;36m<module>\u001b[1;34m()\u001b[0m\n\u001b[0;32m      5\u001b[0m \u001b[0muser_detail\u001b[0m\u001b[1;33m(\u001b[0m\u001b[1;36m10\u001b[0m\u001b[1;33m,\u001b[0m\u001b[1;36m20\u001b[0m\u001b[1;33m)\u001b[0m\u001b[1;33m\u001b[0m\u001b[0m\n\u001b[0;32m      6\u001b[0m \u001b[0muser_detail\u001b[0m\u001b[1;33m(\u001b[0m\u001b[1;36m10\u001b[0m\u001b[1;33m,\u001b[0m\u001b[1;36m20\u001b[0m\u001b[1;33m,\u001b[0m\u001b[1;36m30\u001b[0m\u001b[1;33m,\u001b[0m\u001b[1;36m40\u001b[0m\u001b[1;33m,\u001b[0m\u001b[1;36m50\u001b[0m\u001b[1;33m,\u001b[0m\u001b[1;36m60\u001b[0m\u001b[1;33m,\u001b[0m\u001b[1;36m70\u001b[0m\u001b[1;33m,\u001b[0m\u001b[1;36m80\u001b[0m\u001b[1;33m,\u001b[0m\u001b[0mname\u001b[0m\u001b[1;33m=\u001b[0m\u001b[1;34m\"abc\"\u001b[0m\u001b[1;33m,\u001b[0m\u001b[0memail\u001b[0m\u001b[1;33m=\u001b[0m\u001b[1;34m'abc@gmail.com'\u001b[0m\u001b[1;33m,\u001b[0m\u001b[0mcontact\u001b[0m\u001b[1;33m=\u001b[0m\u001b[1;34m\"7123456789\"\u001b[0m\u001b[1;33m,\u001b[0m\u001b[0mdob\u001b[0m\u001b[1;33m=\u001b[0m\u001b[1;34m\"12-05-2018\"\u001b[0m\u001b[1;33m)\u001b[0m\u001b[1;33m\u001b[0m\u001b[0m\n\u001b[1;32m----> 7\u001b[1;33m \u001b[0muser_detail\u001b[0m\u001b[1;33m(\u001b[0m\u001b[0mname\u001b[0m\u001b[1;33m=\u001b[0m\u001b[1;34m\"abc\"\u001b[0m\u001b[1;33m,\u001b[0m\u001b[0mcontact\u001b[0m\u001b[1;33m=\u001b[0m\u001b[1;34m\"7123456789\"\u001b[0m\u001b[1;33m,\u001b[0m\u001b[0mdob\u001b[0m\u001b[1;33m=\u001b[0m\u001b[1;34m\"12-05-2018\"\u001b[0m\u001b[1;33m)\u001b[0m\u001b[1;33m\u001b[0m\u001b[0m\n\u001b[0m\u001b[0;32m      8\u001b[0m \u001b[0muser_detail\u001b[0m\u001b[1;33m(\u001b[0m\u001b[0mname\u001b[0m\u001b[1;33m=\u001b[0m\u001b[1;34m\"abc\"\u001b[0m\u001b[1;33m,\u001b[0m\u001b[0memail\u001b[0m\u001b[1;33m=\u001b[0m\u001b[1;34m'abc@gmail.com'\u001b[0m\u001b[1;33m,\u001b[0m\u001b[0mdob\u001b[0m\u001b[1;33m=\u001b[0m\u001b[1;34m\"12-05-2018\"\u001b[0m\u001b[1;33m)\u001b[0m\u001b[1;33m\u001b[0m\u001b[0m\n",
      "\u001b[1;31mTypeError\u001b[0m: user_detail() missing 2 required positional arguments: 'num1' and 'num2'"
     ]
    }
   ],
   "source": [
    "def user_detail(num1,num2,*args,**kwargs):\n",
    "    print(args,kwargs)\n",
    "\n",
    "    \n",
    "user_detail(10,20)\n",
    "user_detail(10,20,30,40,50,60,70,80,name=\"abc\",email='abc@gmail.com',contact=\"7123456789\",dob=\"12-05-2018\")\n",
    "user_detail(name=\"abc\",contact=\"7123456789\",dob=\"12-05-2018\")\n",
    "user_detail(name=\"abc\",email='abc@gmail.com',dob=\"12-05-2018\")"
   ]
  },
  {
   "cell_type": "code",
   "execution_count": 57,
   "metadata": {},
   "outputs": [
    {
     "name": "stdout",
     "output_type": "stream",
     "text": [
      "10 20 30\n"
     ]
    }
   ],
   "source": [
    "def add(num1,num2,num3):\n",
    "    print(num1,num2,num3)\n",
    "  \n",
    "l = [10,20,30]\n",
    "d = {'num1':10,'num2':20,'num3':30}\n",
    "\n",
    "add(**d)"
   ]
  }
 ],
 "metadata": {
  "kernelspec": {
   "display_name": "Python 3",
   "language": "python",
   "name": "python3"
  },
  "language_info": {
   "codemirror_mode": {
    "name": "ipython",
    "version": 3
   },
   "file_extension": ".py",
   "mimetype": "text/x-python",
   "name": "python",
   "nbconvert_exporter": "python",
   "pygments_lexer": "ipython3",
   "version": "3.6.5"
  }
 },
 "nbformat": 4,
 "nbformat_minor": 2
}
